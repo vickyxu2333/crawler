{
 "cells": [
  {
   "cell_type": "code",
   "execution_count": 141,
   "metadata": {},
   "outputs": [],
   "source": [
    "from urllib.request import urlopen\n",
    "from bs4 import BeautifulSoup\n",
    "import pandas as pd\n",
    "import csv\n",
    "import numpy as np\n",
    "import requests"
   ]
  },
  {
   "cell_type": "code",
   "execution_count": 142,
   "metadata": {
    "scrolled": true
   },
   "outputs": [],
   "source": [
    "soup = BeautifulSoup(open('..\\data\\mtr.xml', 'rb'), 'xml')"
   ]
  },
  {
   "cell_type": "code",
   "execution_count": 150,
   "metadata": {
    "scrolled": true
   },
   "outputs": [
    {
     "data": {
      "text/html": [
       "<div>\n",
       "<style scoped>\n",
       "    .dataframe tbody tr th:only-of-type {\n",
       "        vertical-align: middle;\n",
       "    }\n",
       "\n",
       "    .dataframe tbody tr th {\n",
       "        vertical-align: top;\n",
       "    }\n",
       "\n",
       "    .dataframe thead th {\n",
       "        text-align: right;\n",
       "    }\n",
       "</style>\n",
       "<table border=\"1\" class=\"dataframe\">\n",
       "  <thead>\n",
       "    <tr style=\"text-align: right;\">\n",
       "      <th></th>\n",
       "      <th>Line</th>\n",
       "      <th>StationCode</th>\n",
       "      <th>EnglishName</th>\n",
       "      <th>Sequence</th>\n",
       "      <th>Latitude</th>\n",
       "      <th>Longitude</th>\n",
       "    </tr>\n",
       "  </thead>\n",
       "  <tbody>\n",
       "    <tr>\n",
       "      <th>0</th>\n",
       "      <td>Airport Express</td>\n",
       "      <td>AWE</td>\n",
       "      <td>AsiaWorld-Expo</td>\n",
       "      <td>1</td>\n",
       "      <td>22.321667</td>\n",
       "      <td>113.941111</td>\n",
       "    </tr>\n",
       "    <tr>\n",
       "      <th>1</th>\n",
       "      <td>Airport Express</td>\n",
       "      <td>AIR</td>\n",
       "      <td>Airport</td>\n",
       "      <td>2</td>\n",
       "      <td>22.316111</td>\n",
       "      <td>113.936667</td>\n",
       "    </tr>\n",
       "    <tr>\n",
       "      <th>2</th>\n",
       "      <td>Airport Express</td>\n",
       "      <td>TSY</td>\n",
       "      <td>Tsing Yi</td>\n",
       "      <td>3</td>\n",
       "      <td>22.358333</td>\n",
       "      <td>114.106944</td>\n",
       "    </tr>\n",
       "    <tr>\n",
       "      <th>3</th>\n",
       "      <td>Airport Express</td>\n",
       "      <td>KOW</td>\n",
       "      <td>Kowloon</td>\n",
       "      <td>4</td>\n",
       "      <td>22.305000</td>\n",
       "      <td>114.161389</td>\n",
       "    </tr>\n",
       "    <tr>\n",
       "      <th>4</th>\n",
       "      <td>Airport Express</td>\n",
       "      <td>HOK</td>\n",
       "      <td>Hong Kong</td>\n",
       "      <td>5</td>\n",
       "      <td>22.285000</td>\n",
       "      <td>114.158056</td>\n",
       "    </tr>\n",
       "  </tbody>\n",
       "</table>\n",
       "</div>"
      ],
      "text/plain": [
       "              Line StationCode     EnglishName Sequence   Latitude   Longitude\n",
       "0  Airport Express         AWE  AsiaWorld-Expo        1  22.321667  113.941111\n",
       "1  Airport Express         AIR         Airport        2  22.316111  113.936667\n",
       "2  Airport Express         TSY        Tsing Yi        3  22.358333  114.106944\n",
       "3  Airport Express         KOW         Kowloon        4  22.305000  114.161389\n",
       "4  Airport Express         HOK       Hong Kong        5  22.285000  114.158056"
      ]
     },
     "execution_count": 150,
     "metadata": {},
     "output_type": "execute_result"
    }
   ],
   "source": [
    "mtrlist = []\n",
    "for i in range(len(soup.find_all('record'))):\n",
    "    contain = soup.find_all('record')[i]\n",
    "    Line = contain.Line.contents[0]\n",
    "    StationCode = contain.StationCode.contents[0]\n",
    "    EnglishName = contain.EnglishName.contents[0]\n",
    "    Sequence = contain.Sequence.contents[0]\n",
    "    string = str(contain)\n",
    "    Lat = re.findall('\\S\\S°\\S\\S′\\S\\S″N', string)\n",
    "    Long = re.findall('\\S\\S\\S°\\S\\S′\\S\\S″E', string)\n",
    "    #transfer the format of coordinates\n",
    "    a = int(Lat[0].split('°')[0])\n",
    "    b = int(Lat[0].split('°')[1].split('′')[0])\n",
    "    c = int(Lat[0].split('°')[1].split('′')[1].split('″')[0])\n",
    "    Latitude = a + b/60 + c/3600\n",
    "    x = int(Long[0].split('°')[0])\n",
    "    y = int(Long[0].split('°')[1].split('′')[0])\n",
    "    z = int(Long[0].split('°')[1].split('′')[1].split('″')[0])\n",
    "    Longitude = x + y/60 + z/3600 \n",
    "    mtr = [Line, StationCode, EnglishName, Sequence, Latitude, Longitude]\n",
    "    mtrlist.append(mtr)\n",
    "\n",
    "data = pd.DataFrame(mtrlist, columns = ['Line',  'StationCode', 'EnglishName', 'Sequence', 'Latitude', 'Longitude'])\n",
    "data.to_csv(r'../data/MTR.csv', encoding='utf-8', index=False)\n",
    "data.iloc[0:5]"
   ]
  }
 ],
 "metadata": {
  "kernelspec": {
   "display_name": "Python 3",
   "language": "python",
   "name": "python3"
  },
  "language_info": {
   "codemirror_mode": {
    "name": "ipython",
    "version": 3
   },
   "file_extension": ".py",
   "mimetype": "text/x-python",
   "name": "python",
   "nbconvert_exporter": "python",
   "pygments_lexer": "ipython3",
   "version": "3.8.3"
  },
  "toc": {
   "base_numbering": 1,
   "nav_menu": {},
   "number_sections": true,
   "sideBar": true,
   "skip_h1_title": false,
   "title_cell": "Table of Contents",
   "title_sidebar": "Contents",
   "toc_cell": false,
   "toc_position": {},
   "toc_section_display": true,
   "toc_window_display": false
  }
 },
 "nbformat": 4,
 "nbformat_minor": 4
}
