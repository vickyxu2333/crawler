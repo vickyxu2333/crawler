{
 "cells": [
  {
   "cell_type": "code",
   "execution_count": null,
   "metadata": {},
   "outputs": [],
   "source": [
    "from urllib.request import urlopen\n",
    "import re\n",
    "import numpy as np\n",
    "\n",
    "url = 'https://www.imdb.com/chart/top'\n",
    "html = urlopen(url)\n",
    "\n",
    "list0 = [] \n",
    "user_ratings = []\n",
    "for line in html:\n",
    "    line = line.decode('utf-8')   #transfer to string\n",
    "    m_url = re.findall('\"(\\/title\\/\\S+\\/)\"', line)\n",
    "    star = re.findall('\"(\\S+ based on \\S+ user ratings)\"', line)\n",
    "    if len(m_url) > 0:   #remove the empty ones\n",
    "        list0.append(m_url)\n",
    "    if len(star) > 0:\n",
    "        user_ratings.append(star)        \n",
    "        \n",
    "all_urls = []   #remove the duplicates\n",
    "count = 0\n",
    "for n in list0:\n",
    "    if n not in all_urls:\n",
    "        all_urls.append(n)\n",
    "        count += 1\n",
    "    \n",
    "data = np.array(all_urls)\n",
    "np.savetxt('../data/urls.txt', data, fmt = '%s', encoding = 'utf-8')\n",
    "print(count, 'unique movies in the top chart.\\n')\n",
    "print(\"Here are top six movies' user ratings:\")\n",
    "for t in range(1,7):\n",
    "    print('No.', t, ':',user_ratings[t-1][0])"
   ]
  }
 ],
 "metadata": {
  "kernelspec": {
   "display_name": "Python 3",
   "language": "python",
   "name": "python3"
  },
  "language_info": {
   "codemirror_mode": {
    "name": "ipython",
    "version": 3
   },
   "file_extension": ".py",
   "mimetype": "text/x-python",
   "name": "python",
   "nbconvert_exporter": "python",
   "pygments_lexer": "ipython3",
   "version": "3.8.3"
  },
  "toc": {
   "base_numbering": 1,
   "nav_menu": {},
   "number_sections": true,
   "sideBar": true,
   "skip_h1_title": false,
   "title_cell": "Table of Contents",
   "title_sidebar": "Contents",
   "toc_cell": false,
   "toc_position": {},
   "toc_section_display": true,
   "toc_window_display": false
  }
 },
 "nbformat": 4,
 "nbformat_minor": 4
}
