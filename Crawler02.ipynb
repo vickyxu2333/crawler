{
 "cells": [
  {
   "cell_type": "code",
   "execution_count": null,
   "metadata": {},
   "outputs": [],
   "source": [
    "from urllib.request import urlopen\n",
    "from bs4 import BeautifulSoup\n",
    "import pandas as pd\n",
    "    \n",
    "f_row = [] \n",
    "\n",
    "def extract(item):\n",
    "    for i in range(1,40,2):\n",
    "        container = item.tbody.contents[i]\n",
    "        name = container.contents[1].get_text().strip()\n",
    "        date = container.contents[3].get_text().strip()\n",
    "        district = container.contents[5].get_text().strip()\n",
    "        exchange = container.contents[7].get_text().strip()\n",
    "        ticker = container.contents[9].get_text().strip()\n",
    "        row = [name, date, district, exchange, ticker]\n",
    "        f_row.append(row)\n",
    "    return(f_row)\n",
    "\n",
    "for j in range(1,21):\n",
    "    url = 'http://securities.stanford.edu/filings.html?page=' + str(j)\n",
    "    html = urlopen(url)\n",
    "    soup = BeautifulSoup(html, 'html.parser')\n",
    "    item = soup.find(class_ = 'table table-bordered table-striped table-hover')\n",
    "    f_row_all = extract(item) \n",
    "    for j in range(1,2):\n",
    "        f_columns = item.thead.contents[1].get_text().strip().split('\\n\\n')   #title\n",
    "\n",
    "filings = pd.DataFrame(f_row_all, columns = f_columns)\n",
    "\n",
    "filings.to_csv(r'../data/filings.csv',encoding='utf-8',index=False)"
   ]
  }
 ],
 "metadata": {
  "kernelspec": {
   "display_name": "Python 3",
   "language": "python",
   "name": "python3"
  },
  "language_info": {
   "codemirror_mode": {
    "name": "ipython",
    "version": 3
   },
   "file_extension": ".py",
   "mimetype": "text/x-python",
   "name": "python",
   "nbconvert_exporter": "python",
   "pygments_lexer": "ipython3",
   "version": "3.8.3"
  },
  "toc": {
   "base_numbering": 1,
   "nav_menu": {},
   "number_sections": true,
   "sideBar": true,
   "skip_h1_title": false,
   "title_cell": "Table of Contents",
   "title_sidebar": "Contents",
   "toc_cell": false,
   "toc_position": {},
   "toc_section_display": true,
   "toc_window_display": false
  }
 },
 "nbformat": 4,
 "nbformat_minor": 4
}
