{
 "cells": [
  {
   "cell_type": "code",
   "execution_count": 2,
   "metadata": {},
   "outputs": [],
   "source": [
    "from urllib.request import urlopen\n",
    "from bs4 import BeautifulSoup\n",
    "import pandas as pd"
   ]
  },
  {
   "cell_type": "code",
   "execution_count": 3,
   "metadata": {},
   "outputs": [],
   "source": [
    "url = \"https://www.peakbagger.com/list.aspx?lid=5651\"\n",
    "html = urlopen(url)\n",
    "soup = BeautifulSoup(html, 'html.parser')"
   ]
  },
  {
   "cell_type": "code",
   "execution_count": 226,
   "metadata": {},
   "outputs": [
    {
     "name": "stdout",
     "output_type": "stream",
     "text": [
      "Row 10 done ==> Mountain name: Senjoga-dake\n",
      "Row 20 done ==> Mountain name: Washibadake\n",
      "Row 30 done ==> Mountain name: Kinpu-san\n",
      "Row 40 done ==> Mountain name: Hiuchiga-take\n",
      "Row 50 done ==> Mountain name: Naeba-san\n",
      "Row 60 done ==> Mountain name: Nishi-Azuma-yama\n",
      "Row 70 done ==> Mountain name: Miyanoura-dake\n",
      "Row 80 done ==> Mountain name: Kuju-san\n",
      "Row 90 done ==> Mountain name: Hachimantai\n",
      "Row 100 done ==> Mountain name: Tsukuba-san\n"
     ]
    }
   ],
   "source": [
    "body = soup.find(class_ = 'gray').find_all('td')\n",
    "\n",
    "def location(url):\n",
    "    url_full = 'https://www.peakbagger.com/' + url\n",
    "    html_geo = urlopen(url_full)\n",
    "    soup_geo = BeautifulSoup(html_geo, 'html.parser')\n",
    "    body_geo = soup_geo.find(class_ = 'gray').text\n",
    "    geo = re.findall('[0-9][0-9]\\.[0-9]+, [0-9][0-9][0-9]\\.[0-9]+', body_geo)\n",
    "    return geo\n",
    "\n",
    "m_row = []\n",
    "for i in range(int(len(body)/8)):\n",
    "    no = i + 1\n",
    "    url = body[i * 8 + 1].find('a').get('href')\n",
    "    name = body[i * 8 + 1].contents[0].get_text()\n",
    "    region = body[i * 8 + 2].get_text()\n",
    "    elev = body[i * 8 + 3].get_text()\n",
    "    lat = location(url)[0].split(',')[0]\n",
    "    long = location(url)[0].split(',')[1]\n",
    "    row = [no, name, region, elev, lat, long, url]\n",
    "    m_row.append(row)\n",
    "    if no % 10 == 0:\n",
    "        print('Row ' + str(no) + ' done ==> Mountain name: ' + name)\n",
    "mount = pd.DataFrame(m_row, columns = ['no.', 'name', 'region', 'elev', 'lat', 'long', 'url']).set_index(['no.'])\n",
    "mount.to_csv(r'../data/mountains.csv', encoding='utf-8')"
   ]
  }
 ],
 "metadata": {
  "kernelspec": {
   "display_name": "Python 3",
   "language": "python",
   "name": "python3"
  },
  "language_info": {
   "codemirror_mode": {
    "name": "ipython",
    "version": 3
   },
   "file_extension": ".py",
   "mimetype": "text/x-python",
   "name": "python",
   "nbconvert_exporter": "python",
   "pygments_lexer": "ipython3",
   "version": "3.8.3"
  },
  "toc": {
   "base_numbering": 1,
   "nav_menu": {},
   "number_sections": true,
   "sideBar": true,
   "skip_h1_title": false,
   "title_cell": "Table of Contents",
   "title_sidebar": "Contents",
   "toc_cell": false,
   "toc_position": {},
   "toc_section_display": true,
   "toc_window_display": false
  }
 },
 "nbformat": 4,
 "nbformat_minor": 4
}
